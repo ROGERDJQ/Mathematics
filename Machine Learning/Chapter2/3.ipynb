{
 "cells": [
  {
   "cell_type": "markdown",
   "metadata": {},
   "source": [
    "# Chapter3 线性模型 "
   ]
  },
  {
   "cell_type": "markdown",
   "metadata": {},
   "source": [
    "线性模型的假设空间为线性函数簇，有𝑓(𝒙;𝒘)= $𝑤_1𝑥_1+ 𝑤_2𝑥_2+ ⋯ + 𝑤_𝐷𝑥_𝐷+ 𝑏 = \\pmb{w}^T \\pmb{𝒙} + 𝑏$，其中w与b为权重参数，由于分类任务必然需要非线性决策函数（对于线性模型而言），故有𝑦 = 𝑔(𝑓(𝒙;𝒘))。"
   ]
  },
  {
   "cell_type": "markdown",
   "metadata": {},
   "source": [
    "所谓“线性分类模型”就是指其决策边界是线性超平面．在特征空间中，决策平面与权重向量𝒘正交，特征空间中每个样本点到决策平面的有向距离为$\\frac{𝑓(𝒙;𝒘)}{‖𝒘‖}$,𝛾也可以看作点𝒙在𝒘方向上的投影.\n"
   ]
  },
  {
   "cell_type": "markdown",
   "metadata": {},
   "source": [
    "## Logistic回归"
   ]
  },
  {
   "cell_type": "markdown",
   "metadata": {},
   "source": [
    "使用logistic函数计算y=1时的后验概率即，𝑝(𝑦 = 1|𝒙) = 𝑔(𝑓(𝒙;𝒘)).对$w$求导时，有LOSS/Z 导数为y-y^hat"
   ]
  },
  {
   "cell_type": "markdown",
   "metadata": {},
   "source": [
    "## Softmax"
   ]
  },
  {
   "cell_type": "markdown",
   "metadata": {},
   "source": [
    "其loss函数对W的导数与logistic一致。"
   ]
  },
  {
   "cell_type": "code",
   "execution_count": null,
   "metadata": {},
   "outputs": [],
   "source": []
  }
 ],
 "metadata": {
  "language_info": {
   "codemirror_mode": {
    "name": "ipython",
    "version": 3
   },
   "file_extension": ".py",
   "mimetype": "text/x-python",
   "name": "python",
   "nbconvert_exporter": "python",
   "pygments_lexer": "ipython3",
   "version": 3
  },
  "orig_nbformat": 2
 },
 "nbformat": 4,
 "nbformat_minor": 2
}